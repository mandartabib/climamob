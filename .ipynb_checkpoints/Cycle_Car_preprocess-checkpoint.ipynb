{
 "cells": [
  {
   "cell_type": "markdown",
   "metadata": {},
   "source": [
    "Import dependencies"
   ]
  },
  {
   "cell_type": "code",
   "execution_count": 253,
   "metadata": {
    "collapsed": false
   },
   "outputs": [],
   "source": [
    "import numpy as np \n",
    "import pandas as pd \n",
    "import csv\n",
    "from sklearn.preprocessing import Imputer"
   ]
  },
  {
   "cell_type": "markdown",
   "metadata": {},
   "source": [
    "Import the file containing the location data of all the sensors (cycles + cars). The file aurrently has only the location data of sensors counting cars."
   ]
  },
  {
   "cell_type": "code",
   "execution_count": 254,
   "metadata": {
    "collapsed": false
   },
   "outputs": [
    {
     "name": "stdout",
     "output_type": "stream",
     "text": [
      "155\n",
      "0.713688244563 342.212980762 324.370774648\n",
      "    SENSOR_ID                   SENSOR_NAVN   LATITUDE  LONGITUDE  \\\n",
      "40     300074             RS Ullevål sykkel  6653556.0  261771.27   \n",
      "41     300076        RS Aker sykehus sykkel  6652306.0  265408.90   \n",
      "42     300077       RS Frognerstanda sykkel  6649469.0  259745.50   \n",
      "55     300149                   Bryn sykkel  6647886.5  266132.10   \n",
      "65     300170  RS Kong Haakon 5’gate sykkel  6648531.0  263039.06   \n",
      "\n",
      "           STREKNING_NAVN   FORMAT SENSOR_STATUS SENSOR_TYPE    OPPLOSNING  \\\n",
      "40  RV150 HP 1 Meter 6766  Datainn            OK      Sykkel  Enkeltkjøret   \n",
      "41    RV4 HP 3 Meter 2400  Datainn            OK      Sykkel  Enkeltkjøret   \n",
      "42   EV18 HP 2 Meter 4155  Datainn            OK      Sykkel  Enkeltkjøret   \n",
      "55    EG6 HP1 Meter 10440  Datainn            OK      Sykkel  Enkeltkjøret   \n",
      "65   RG162 HP 1 Meter 880  Datainn            OK      Sykkel  Enkeltkjøret   \n",
      "\n",
      "           DTC  \n",
      "40  336.312582  \n",
      "41  332.638785  \n",
      "42  338.232135  \n",
      "55  331.818796  \n",
      "65  334.921874  \n",
      "[40, 41, 42, 55, 65]\n",
      "40    300074\n",
      "41    300076\n",
      "42    300077\n",
      "55    300149\n",
      "65    300170\n",
      "Name: SENSOR_ID, dtype: int64\n"
     ]
    }
   ],
   "source": [
    "location_data = pd.read_csv('tellepunkter.csv',sep=',')\n",
    "#Look into the format of the imported data\n",
    "location_data.head()\n",
    "OSLOLAT1=6642806\n",
    "OSLOLONG1=597912\n",
    "\n",
    "location_data['DTC']=(((location_data['LATITUDE']-OSLOLAT1)**2 +(location_data['LONGITUDE']-OSLOLONG1)**2)**0.5)/1000\n",
    "\n",
    "print(len(location_data['DTC']))\n",
    "location_data=location_data.dropna()\n",
    "#print(len(location_data['DTC']))\n",
    "r1=location_data['DTC'].max()\n",
    "r2=location_data['DTC'].min()\n",
    "range1=r1-r2\n",
    "setlim=0.04*range1;\n",
    "#print(setlim,r1,r2)\n",
    "location_data['SENSOR_TYPE']\n",
    "#Find row index with nan \n",
    "#print(location_data.isnull().any(axis=0))\n",
    "#inds = location_data.isnull().any(1).nonzero()[0]\n",
    "#print(location_data.loc[inds[40:],'DTC'])\n",
    "\n",
    "#Find index of sensor with sykkel\n",
    "\n",
    "idx = location_data.index[location_data['SENSOR_TYPE']== 'Sykkel'].tolist()\n",
    "#print(location_data.loc[idx])\n",
    "#print(idx)\n",
    "#abc=location_data.loc[idx,'SENSOR_ID']\n",
    "#print(abc)\n",
    "#print(location_data[idx,'SENSOR_ID'])"
   ]
  },
  {
   "cell_type": "markdown",
   "metadata": {},
   "source": [
    "Import the car, cycle and met data"
   ]
  },
  {
   "cell_type": "code",
   "execution_count": 255,
   "metadata": {
    "collapsed": false,
    "scrolled": true
   },
   "outputs": [
    {
     "name": "stdout",
     "output_type": "stream",
     "text": [
      "Rows in car data  101669\n",
      "carpercentmissing 0\n",
      "carpercentmissing 0.0\n"
     ]
    },
    {
     "data": {
      "text/html": [
       "<div>\n",
       "<table border=\"1\" class=\"dataframe\">\n",
       "  <thead>\n",
       "    <tr style=\"text-align: right;\">\n",
       "      <th></th>\n",
       "      <th>SENSOR_ID</th>\n",
       "      <th>YEAR</th>\n",
       "      <th>MONTH</th>\n",
       "      <th>DAY</th>\n",
       "      <th>STARTHOUR</th>\n",
       "      <th>DIRECTION</th>\n",
       "      <th>RESOLUTION</th>\n",
       "      <th>SUM</th>\n",
       "    </tr>\n",
       "  </thead>\n",
       "  <tbody>\n",
       "    <tr>\n",
       "      <th>0</th>\n",
       "      <td>300016</td>\n",
       "      <td>2015</td>\n",
       "      <td>2</td>\n",
       "      <td>1</td>\n",
       "      <td>0</td>\n",
       "      <td>1</td>\n",
       "      <td>HOURLY</td>\n",
       "      <td>381</td>\n",
       "    </tr>\n",
       "    <tr>\n",
       "      <th>1</th>\n",
       "      <td>300016</td>\n",
       "      <td>2015</td>\n",
       "      <td>2</td>\n",
       "      <td>1</td>\n",
       "      <td>1</td>\n",
       "      <td>1</td>\n",
       "      <td>HOURLY</td>\n",
       "      <td>284</td>\n",
       "    </tr>\n",
       "    <tr>\n",
       "      <th>2</th>\n",
       "      <td>300016</td>\n",
       "      <td>2015</td>\n",
       "      <td>2</td>\n",
       "      <td>1</td>\n",
       "      <td>2</td>\n",
       "      <td>1</td>\n",
       "      <td>HOURLY</td>\n",
       "      <td>165</td>\n",
       "    </tr>\n",
       "    <tr>\n",
       "      <th>3</th>\n",
       "      <td>300016</td>\n",
       "      <td>2015</td>\n",
       "      <td>2</td>\n",
       "      <td>1</td>\n",
       "      <td>3</td>\n",
       "      <td>1</td>\n",
       "      <td>HOURLY</td>\n",
       "      <td>98</td>\n",
       "    </tr>\n",
       "    <tr>\n",
       "      <th>4</th>\n",
       "      <td>300016</td>\n",
       "      <td>2015</td>\n",
       "      <td>2</td>\n",
       "      <td>1</td>\n",
       "      <td>4</td>\n",
       "      <td>1</td>\n",
       "      <td>HOURLY</td>\n",
       "      <td>87</td>\n",
       "    </tr>\n",
       "  </tbody>\n",
       "</table>\n",
       "</div>"
      ],
      "text/plain": [
       "   SENSOR_ID  YEAR  MONTH  DAY  STARTHOUR  DIRECTION RESOLUTION  SUM\n",
       "0     300016  2015      2    1          0          1    HOURLY   381\n",
       "1     300016  2015      2    1          1          1    HOURLY   284\n",
       "2     300016  2015      2    1          2          1    HOURLY   165\n",
       "3     300016  2015      2    1          3          1    HOURLY    98\n",
       "4     300016  2015      2    1          4          1    HOURLY    87"
      ]
     },
     "execution_count": 255,
     "metadata": {},
     "output_type": "execute_result"
    }
   ],
   "source": [
    "car_data = pd.read_csv('car_feb2015_feb2016.csv',sep=';')\n",
    "print(\"Rows in car data \",len(car_data))\n",
    "#print(car_data.isnull().sum(axis=0).sum())\n",
    "#print(cycle_data.count().sum())\n",
    "cs=car_data.size\n",
    "csmissing=car_data.isnull().sum(axis=0).sum()\n",
    "print('carpercentmissing',csmissing)\n",
    "print('carpercentmissing',(csmissing/cs))\n",
    "car_data=car_data.drop(['AVGSPEED '],axis=1)\n",
    "car_data.head()"
   ]
  },
  {
   "cell_type": "code",
   "execution_count": 256,
   "metadata": {
    "collapsed": false
   },
   "outputs": [],
   "source": [
    "#for sensor_id in list(car_data['SENSOR_ID'].unique()):\n",
    "#    print(sensor_id)\n",
    "#Only retain the relevant sensor data location\n",
    "\n",
    "#location_data = location_data[(location_data.SENSOR_ID==300016)| (location_data.SENSOR_ID==300083)| \n",
    "#                              (location_data.SENSOR_ID==300099)| (location_data.SENSOR_ID==300233)| \n",
    "#                              (location_data.SENSOR_ID==302257)]\n"
   ]
  },
  {
   "cell_type": "code",
   "execution_count": 257,
   "metadata": {
    "collapsed": false
   },
   "outputs": [
    {
     "name": "stdout",
     "output_type": "stream",
     "text": [
      "Rows in cycle data  868084\n",
      "504602\n",
      "4340420\n",
      "cyclepercentmissing 0.116256491307\n"
     ]
    },
    {
     "data": {
      "text/html": [
       "<div>\n",
       "<table border=\"1\" class=\"dataframe\">\n",
       "  <thead>\n",
       "    <tr style=\"text-align: right;\">\n",
       "      <th></th>\n",
       "      <th>SENSOR_ID</th>\n",
       "      <th>TIME</th>\n",
       "      <th>LANE</th>\n",
       "      <th>SUM</th>\n",
       "      <th>RESOLUTION</th>\n",
       "    </tr>\n",
       "  </thead>\n",
       "  <tbody>\n",
       "    <tr>\n",
       "      <th>0</th>\n",
       "      <td>10000010</td>\n",
       "      <td>2015-02-01T00:00:00</td>\n",
       "      <td>99.0</td>\n",
       "      <td>5.0</td>\n",
       "      <td>HOURLY</td>\n",
       "    </tr>\n",
       "    <tr>\n",
       "      <th>1</th>\n",
       "      <td>10000010</td>\n",
       "      <td>2015-02-01T01:00:00</td>\n",
       "      <td>99.0</td>\n",
       "      <td>2.0</td>\n",
       "      <td>HOURLY</td>\n",
       "    </tr>\n",
       "    <tr>\n",
       "      <th>2</th>\n",
       "      <td>10000010</td>\n",
       "      <td>2015-02-01T02:00:00</td>\n",
       "      <td>99.0</td>\n",
       "      <td>6.0</td>\n",
       "      <td>HOURLY</td>\n",
       "    </tr>\n",
       "    <tr>\n",
       "      <th>3</th>\n",
       "      <td>10000010</td>\n",
       "      <td>2015-02-01T03:00:00</td>\n",
       "      <td>99.0</td>\n",
       "      <td>5.0</td>\n",
       "      <td>HOURLY</td>\n",
       "    </tr>\n",
       "    <tr>\n",
       "      <th>4</th>\n",
       "      <td>10000010</td>\n",
       "      <td>2015-02-01T04:00:00</td>\n",
       "      <td>99.0</td>\n",
       "      <td>4.0</td>\n",
       "      <td>HOURLY</td>\n",
       "    </tr>\n",
       "  </tbody>\n",
       "</table>\n",
       "</div>"
      ],
      "text/plain": [
       "   SENSOR_ID                 TIME  LANE  SUM RESOLUTION\n",
       "0   10000010  2015-02-01T00:00:00  99.0  5.0     HOURLY\n",
       "1   10000010  2015-02-01T01:00:00  99.0  2.0     HOURLY\n",
       "2   10000010  2015-02-01T02:00:00  99.0  6.0     HOURLY\n",
       "3   10000010  2015-02-01T03:00:00  99.0  5.0     HOURLY\n",
       "4   10000010  2015-02-01T04:00:00  99.0  4.0     HOURLY"
      ]
     },
     "execution_count": 257,
     "metadata": {},
     "output_type": "execute_result"
    }
   ],
   "source": [
    "cycle_data = pd.read_csv('cycle_feb2015_feb2016.csv',sep=',')\n",
    "print(\"Rows in cycle data \",len(cycle_data))\n",
    "print(cycle_data.isnull().sum(axis=0).sum())\n",
    "#print(cycle_data.count().sum())\n",
    "print(cycle_data.size)\n",
    "print('cyclepercentmissing',cycle_data.isnull().sum(axis=0).sum()/cycle_data.size)\n",
    "\n",
    "cycle_data.head()\n"
   ]
  },
  {
   "cell_type": "code",
   "execution_count": 258,
   "metadata": {
    "collapsed": false
   },
   "outputs": [
    {
     "name": "stdout",
     "output_type": "stream",
     "text": [
      "Rows in the met data  8784\n"
     ]
    },
    {
     "data": {
      "text/html": [
       "<div>\n",
       "<table border=\"1\" class=\"dataframe\">\n",
       "  <thead>\n",
       "    <tr style=\"text-align: right;\">\n",
       "      <th></th>\n",
       "      <th>St.no</th>\n",
       "      <th>Year</th>\n",
       "      <th>Mnth</th>\n",
       "      <th>Date</th>\n",
       "      <th>Time</th>\n",
       "      <th>DirectionDeg</th>\n",
       "      <th>Speedmps</th>\n",
       "      <th>TempC</th>\n",
       "      <th>Pptmm</th>\n",
       "      <th>Humidpercen</th>\n",
       "      <th>Snowdepthcm</th>\n",
       "    </tr>\n",
       "  </thead>\n",
       "  <tbody>\n",
       "    <tr>\n",
       "      <th>0</th>\n",
       "      <td>18700</td>\n",
       "      <td>2015</td>\n",
       "      <td>2</td>\n",
       "      <td>1</td>\n",
       "      <td>1</td>\n",
       "      <td>7</td>\n",
       "      <td>5.8</td>\n",
       "      <td>-1.0</td>\n",
       "      <td>0.0</td>\n",
       "      <td>75</td>\n",
       "      <td></td>\n",
       "    </tr>\n",
       "    <tr>\n",
       "      <th>1</th>\n",
       "      <td>18700</td>\n",
       "      <td>2015</td>\n",
       "      <td>2</td>\n",
       "      <td>1</td>\n",
       "      <td>2</td>\n",
       "      <td>6</td>\n",
       "      <td>6.2</td>\n",
       "      <td>-1.3</td>\n",
       "      <td>0.0</td>\n",
       "      <td>77</td>\n",
       "      <td></td>\n",
       "    </tr>\n",
       "    <tr>\n",
       "      <th>2</th>\n",
       "      <td>18700</td>\n",
       "      <td>2015</td>\n",
       "      <td>2</td>\n",
       "      <td>1</td>\n",
       "      <td>3</td>\n",
       "      <td>12</td>\n",
       "      <td>6.5</td>\n",
       "      <td>-1.5</td>\n",
       "      <td>0.1</td>\n",
       "      <td>79</td>\n",
       "      <td></td>\n",
       "    </tr>\n",
       "    <tr>\n",
       "      <th>3</th>\n",
       "      <td>18700</td>\n",
       "      <td>2015</td>\n",
       "      <td>2</td>\n",
       "      <td>1</td>\n",
       "      <td>4</td>\n",
       "      <td>7</td>\n",
       "      <td>5.9</td>\n",
       "      <td>-1.5</td>\n",
       "      <td>0.0</td>\n",
       "      <td>76</td>\n",
       "      <td></td>\n",
       "    </tr>\n",
       "    <tr>\n",
       "      <th>4</th>\n",
       "      <td>18700</td>\n",
       "      <td>2015</td>\n",
       "      <td>2</td>\n",
       "      <td>1</td>\n",
       "      <td>5</td>\n",
       "      <td>5</td>\n",
       "      <td>6.3</td>\n",
       "      <td>-1.7</td>\n",
       "      <td>0.0</td>\n",
       "      <td>77</td>\n",
       "      <td></td>\n",
       "    </tr>\n",
       "  </tbody>\n",
       "</table>\n",
       "</div>"
      ],
      "text/plain": [
       "   St.no  Year  Mnth  Date  Time  DirectionDeg  Speedmps  TempC  Pptmm  \\\n",
       "0  18700  2015     2     1     1             7       5.8   -1.0    0.0   \n",
       "1  18700  2015     2     1     2             6       6.2   -1.3    0.0   \n",
       "2  18700  2015     2     1     3            12       6.5   -1.5    0.1   \n",
       "3  18700  2015     2     1     4             7       5.9   -1.5    0.0   \n",
       "4  18700  2015     2     1     5             5       6.3   -1.7    0.0   \n",
       "\n",
       "   Humidpercen Snowdepthcm  \n",
       "0           75              \n",
       "1           77              \n",
       "2           79              \n",
       "3           76              \n",
       "4           77              "
      ]
     },
     "execution_count": 258,
     "metadata": {},
     "output_type": "execute_result"
    }
   ],
   "source": [
    "weather_data = pd.read_csv('Oslo_Blindern_Weather1.txt',sep=';')\n",
    "print(\"Rows in the met data \",len(weather_data))\n",
    "weather_data.head()"
   ]
  },
  {
   "cell_type": "code",
   "execution_count": 259,
   "metadata": {
    "collapsed": false
   },
   "outputs": [
    {
     "name": "stdout",
     "output_type": "stream",
     "text": [
      "[581969.214674092, 583173.5881745588, 581920.6166516204, 581403.9678022215] [6602191.661805213, 6598876.241133316, 6604418.519248747, 6602179.369905537]\n",
      "[ 43.63137485  46.33621151  41.58512979  43.85245945]\n",
      "[10000010 10000030 10000060 10000090 10000120 10000150 10000180 10000210\n",
      " 10000240 10000270 10000300 10000330 10000360 10000390 10000420 10000450\n",
      " 10000480 10000510 10000540 10000550 10000570 10000590 10000600 10000610\n",
      " 10000640 10000670 10000700 10000730 10000760 10000790 10000820 10000850\n",
      " 10000880 10000910 10000940 10000970 10001000]\n",
      "         DTC  SENSOR_ID\n",
      "1  43.631375   10000010\n",
      "2  46.336212   10000210\n",
      "3  41.585130   10000480\n",
      "4  43.852459   10000790\n"
     ]
    }
   ],
   "source": [
    "#Looking at the data we realized that location of only 74 sensors is available. We convert the coordinates of these\n",
    "#sensors from UTM to lat-lon for plotting their location later in this notebook.\n",
    "latitude_UTM=location_data['LATITUDE'].values[0:74]\n",
    "longitude_UTM=location_data['LONGITUDE'].values[0:74]\n",
    "lats = []\n",
    "lons = []\n",
    "import utm\n",
    "for i in range(len(latitude_UTM)):\n",
    "    temp_lats,temp_lons=utm.to_latlon(longitude_UTM[i], latitude_UTM[i], 33, 'U')\n",
    "    lats.append(temp_lats),lons.append(temp_lons)\n",
    "labels=location_data['SENSOR_ID'].values[0:74]\n",
    "\n",
    "northerly=[59.55,59.52,59.57,59.55]\n",
    "easterly=[10.45,10.47,10.45,10.44]\n",
    "\n",
    "utm1 = []\n",
    "utm2 = []\n",
    "utmcord=np.zeros(len(northerly))\n",
    "for i in range(len(northerly)):\n",
    "    utmcoords=utm.from_latlon(northerly[i],easterly[i])\n",
    "    utm1.append(utmcoords[0]),utm2.append(utmcoords[1])\n",
    "    utmcord[i]=(((utmcoords[1]-OSLOLAT1)**2 +(utmcoords[0]-OSLOLONG1)**2)**0.5)/1000\n",
    "#print(utm1,utm2)\n",
    "#print(utmcord)\n",
    "index = [i for i in range(1, len(northerly)+1)]\n",
    "UTMadd=pd.DataFrame(utmcord,index,['DTC'])\n",
    "#print(cycle_data.SENSOR_ID.unique())\n",
    "UTMadd['SENSOR_ID']= [10000010,10000210,10000480,10000790]\n",
    "\n",
    "#print(UTMadd)"
   ]
  },
  {
   "cell_type": "code",
   "execution_count": 260,
   "metadata": {
    "collapsed": false
   },
   "outputs": [
    {
     "name": "stdout",
     "output_type": "stream",
     "text": [
      "Sensor id  10000010 [] Rows  9506\n",
      "Sensor id  10000210 [] Rows  26283\n",
      "Sensor id  10000480 [] Rows  26283\n",
      "Sensor id  10000790 [] Rows  26283\n",
      "504602\n",
      "4340420\n",
      "cyclepercentmissing 0.116256491307\n"
     ]
    }
   ],
   "source": [
    "sum1=0\n",
    "for sensor_id in list(cycle_data['SENSOR_ID'].unique()):\n",
    "    missing=cycle_data[cycle_data.SENSOR_ID==sensor_id].isnull().values.any()\n",
    "    if missing==False:\n",
    "        print(\"Sensor id \",sensor_id, location_data[location_data.SENSOR_ID==sensor_id].SENSOR_NAVN.values,\n",
    "              \"Rows \",len(cycle_data[cycle_data.SENSOR_ID==sensor_id]))\n",
    "        sum1=sum1 + len(cycle_data[cycle_data.SENSOR_ID==sensor_id])\n",
    "\"print(cycle_data.isnull().sum(axis=0).sum())\n",
    "#print(cycle_data.count().sum())\n",
    "\"print('Cycle data size',cycle_data.size)\n",
    "#print('cyclepercentmissing',cycle_data.isnull().sum(axis=0).sum()/cycle_data.size)"
   ]
  },
  {
   "cell_type": "markdown",
   "metadata": {},
   "source": [
    "I then used google earth to extract the coordinates of these locations.\n",
    " * 10000010 (59°55'59.53\"N,  10°45'27.53\"E)\n",
    " * 10000210 (59°52'33.68\"N,  10°47'21.58\"E)\n",
    " * 10000480 (59°57'17.15\"N,  10°45'40.28\"E) \n",
    " * 10000790 (59°55'14.14\"N,  10°44'31.83\"E)"
   ]
  },
  {
   "cell_type": "markdown",
   "metadata": {},
   "source": [
    "Let us plot these cordinates"
   ]
  },
  {
   "cell_type": "code",
   "execution_count": 261,
   "metadata": {
    "collapsed": false
   },
   "outputs": [
    {
     "name": "stderr",
     "output_type": "stream",
     "text": [
      "C:\\ProgramData\\Anaconda3\\lib\\site-packages\\mpl_toolkits\\basemap\\__init__.py:3310: MatplotlibDeprecationWarning: The ishold function was deprecated in version 2.0.\n",
      "  b = ax.ishold()\n",
      "C:\\ProgramData\\Anaconda3\\lib\\site-packages\\mpl_toolkits\\basemap\\__init__.py:3319: MatplotlibDeprecationWarning: axes.hold is deprecated.\n",
      "    See the API Changes document (http://matplotlib.org/api/api_changes.html)\n",
      "    for more details.\n",
      "  ax.hold(b)\n",
      "C:\\ProgramData\\Anaconda3\\lib\\site-packages\\mpl_toolkits\\basemap\\__init__.py:3274: MatplotlibDeprecationWarning: The ishold function was deprecated in version 2.0.\n",
      "  b = ax.ishold()\n",
      "C:\\ProgramData\\Anaconda3\\lib\\site-packages\\mpl_toolkits\\basemap\\__init__.py:3283: MatplotlibDeprecationWarning: axes.hold is deprecated.\n",
      "    See the API Changes document (http://matplotlib.org/api/api_changes.html)\n",
      "    for more details.\n",
      "  ax.hold(b)\n"
     ]
    },
    {
     "data": {
      "image/png": "[encoded data removed]",
      "text/plain": [
       "<matplotlib.figure.Figure at 0x1d151860>"
      ]
     },
     "metadata": {},
     "output_type": "display_data"
    }
   ],
   "source": [
    "lats.append(59+55/60+14/3600); lons.append(10+44/60+31/3600)\n",
    "lats.append(59+57/60+17/3600); lons.append(10+45/60+40/3600)\n",
    "lats.append(59+52/60+33/3600); lons.append(10+47/60+21/3600)\n",
    "lats.append(59+55/60+59/3600); lons.append(10+45/60+27/3600)\n",
    "\n",
    "labels=np.append(labels,'Ullevalsvn 19')\n",
    "labels=np.append(labels,'Maridalsvn')\n",
    "labels=np.append(labels,'Ekebergvn')\n",
    "labels=np.append(labels,'Akerselva')\n",
    "\n",
    "from mpl_toolkits.basemap import Basemap\n",
    "import matplotlib.pyplot as plt\n",
    "map = Basemap(projection='merc',resolution = 'h', area_thresh = 0.1,\n",
    "              llcrnrlon=10.6, llcrnrlat=59.8,urcrnrlon=11, urcrnrlat=60)\n",
    "plt.figure(figsize=(16,16))\n",
    "map.drawcoastlines(linewidth=0.2,color='grey')\n",
    "map.drawcountries(linewidth=0.2,color='grey')\n",
    "map.drawmapboundary()\n",
    "#map.shadedrelief()\n",
    "map.bluemarble()\n",
    "x,y = map(lons, lats)\n",
    "map.plot(x, y, 'bo', markersize=7)\n",
    "x_offsets = 20*np.ones_like(lats)\n",
    "y_offsets = 400*np.ones_like(lats)\n",
    "for label, xpt, ypt, x_offset, y_offset in zip(labels, x, y, x_offsets, y_offsets):\n",
    "    plt.text(xpt+x_offset, ypt+y_offset, label)\n",
    "\n",
    "#plt.savefig('bessaker.pdf',bbox_inches='tight')\n",
    "plt.show()\n"
   ]
  },
  {
   "cell_type": "markdown",
   "metadata": {},
   "source": [
    "Clean and format the data"
   ]
  },
  {
   "cell_type": "code",
   "execution_count": 262,
   "metadata": {
    "collapsed": false
   },
   "outputs": [
    {
     "name": "stdout",
     "output_type": "stream",
     "text": [
      "[10000010 10000030 10000060 10000090 10000120 10000150 10000180 10000210\n",
      " 10000240 10000270 10000300 10000330 10000360 10000390 10000420 10000450\n",
      " 10000480 10000510 10000540 10000550 10000570 10000590 10000600 10000610\n",
      " 10000640 10000670 10000700 10000730 10000760 10000790 10000820 10000850\n",
      " 10000880 10000910 10000940 10000970 10001000]\n",
      "   SENSOR_ID                TIME  LANE  SUM        DTC\n",
      "0   10000010 2015-02-01 00:00:00  99.0  5.0  43.631375\n",
      "1   10000010 2015-02-01 01:00:00  99.0  2.0  43.631375\n",
      "2   10000010 2015-02-01 02:00:00  99.0  6.0  43.631375\n",
      "3   10000010 2015-02-01 03:00:00  99.0  5.0  43.631375\n",
      "4   10000010 2015-02-01 04:00:00  99.0  4.0  43.631375\n"
     ]
    }
   ],
   "source": [
    "cycle_data['TIME'] =  pd.to_datetime(cycle_data['TIME'], format='%Y-%m-%dT%H:%M:%S.%f')\n",
    "cycle_data = cycle_data.drop([\"RESOLUTION\"],axis=1)\n",
    "cycle_sensor_location = cycle_data.merge(location_data,on=['SENSOR_ID'])\n",
    "#print(cycle_data.SENSOR_ID.unique())\n",
    "cycle_data=cycle_data.merge(UTMadd,on=['SENSOR_ID']) \n",
    "print(cycle_data.head())\n",
    "#cycle_sensor_location['DTCcomp'] = np.where(cycle_sensor_location['DTC']-car_sensor_location['DTC'] <= setlim, 1,0)"
   ]
  },
  {
   "cell_type": "code",
   "execution_count": 263,
   "metadata": {
    "collapsed": false
   },
   "outputs": [],
   "source": [
    "df2=pd.DataFrame(weather_data[['Year','Mnth','Date','Time']]).rename(columns={'Year': 'year', 'Mnth': 'month', 'Date':'day','Time':'Hour'})\n",
    "df2.head()\n",
    "weather_data['TIME']=pd.to_datetime(df2)\n",
    "weather_data=weather_data.drop([\"Year\",\"Mnth\",\"Date\",\"Time\",\"Snowdepthcm\",\"DirectionDeg\"],axis=1)"
   ]
  },
  {
   "cell_type": "code",
   "execution_count": 264,
   "metadata": {
    "collapsed": false
   },
   "outputs": [],
   "source": [
    "df3=pd.DataFrame(car_data[['YEAR','MONTH','DAY','STARTHOUR']]).rename(columns={'YEAR': 'year', 'MONTH': 'month', 'DAY':'day','STARTHOUR':'Hour'})\n",
    "car_data['TIME']=pd.to_datetime(df3)\n",
    "car_data=car_data.drop([\"YEAR\",\"MONTH\",\"DAY\",\"STARTHOUR\",\"RESOLUTION\",\"RESOLUTION\"],axis=1)\n",
    "\n",
    "car_sensor_location = car_data.merge(location_data,on=['SENSOR_ID'])\n",
    "\n",
    "\n",
    "\n",
    "\n"
   ]
  },
  {
   "cell_type": "code",
   "execution_count": 265,
   "metadata": {
    "collapsed": true
   },
   "outputs": [],
   "source": [
    "weather_data.rename(columns={'Speedmps':'WIND_MAG','Pptmm':\n",
    "                             'PPT','Humidpercen':'RH','TempC':'TEMP',\n",
    "                             'Snowdepthcm':'SNOW_DEPTH','St.no':'STATION_ID'}, inplace=True)"
   ]
  },
  {
   "cell_type": "markdown",
   "metadata": {},
   "source": [
    "Merge the car anc cycle data with the weather data"
   ]
  },
  {
   "cell_type": "code",
   "execution_count": 266,
   "metadata": {
    "collapsed": false
   },
   "outputs": [],
   "source": [
    "#print(\"Rows in car data\",len(car_data))\n",
    "#print(\"Rows in cycling \",len(cycle_data))\n",
    "#car_met_cycle1 = cycle_data.merge(car_data,on=['TIME,SENSOR_ID'])\n",
    "#print(\"Rows in cycling data combined with met \",len(car_met_cycle1))\n",
    "#car_met_cycle1 = pd.merge(car_data, cycle_data,on=['TIME','SENSOR_ID'])\n",
    "#print(\"Rows in cycling data combined with met \",len(car_met_cycle1) )\n",
    "#car_met_sensor.head()"
   ]
  },
  {
   "cell_type": "code",
   "execution_count": 267,
   "metadata": {
    "collapsed": false
   },
   "outputs": [],
   "source": [
    "cycle_met = cycle_data.merge(weather_data,on=['TIME'])\n"
   ]
  },
  {
   "cell_type": "code",
   "execution_count": 268,
   "metadata": {
    "collapsed": false
   },
   "outputs": [],
   "source": [
    "car_met = car_data.merge(weather_data,on=['TIME'])"
   ]
  },
  {
   "cell_type": "code",
   "execution_count": 269,
   "metadata": {
    "collapsed": true
   },
   "outputs": [],
   "source": [
    "#car_met_cycle1_met=car_met_cycle1.merge(weather_data,on=['TIME'])"
   ]
  },
  {
   "cell_type": "code",
   "execution_count": 270,
   "metadata": {
    "collapsed": false
   },
   "outputs": [
    {
     "name": "stdout",
     "output_type": "stream",
     "text": [
      "Rows in cycling data combined with met  88345\n",
      "Rows in car data combined with met  101661\n"
     ]
    }
   ],
   "source": [
    "#print(\"Rows in car data combined cycle data with met \",len(car_met_cycle1_met))\n",
    "print(\"Rows in cycling data combined with met \",len(cycle_met))\n",
    "print(\"Rows in car data combined with met \",len(car_met))\n",
    "#print(\"Rows in car data combined cycle data with met \",car_met_cycle1_met.shape)"
   ]
  },
  {
   "cell_type": "code",
   "execution_count": 271,
   "metadata": {
    "collapsed": false
   },
   "outputs": [],
   "source": [
    "import calendar\n",
    "cycle_met['WEEKDAY'] = cycle_met['TIME'].dt.weekday_name #Insert a column with weekday name\n",
    "cycle_met['MONTH'] = cycle_met['TIME'].dt.month #Insert a column with month number\n",
    "cycle_met['MONTH'] = cycle_met['MONTH'].apply(lambda x: calendar.month_abbr[x]) #Conver month no. to month name\n",
    "cycle_met['HOUR'] = cycle_met['TIME'].dt.hour #Insert a column with hour\n",
    "\n",
    "car_met['WEEKDAY'] = car_met['TIME'].dt.weekday_name\n",
    "car_met['MONTH'] = car_met['TIME'].dt.month\n",
    "car_met['MONTH'] = car_met['MONTH'].apply(lambda x: calendar.month_abbr[x])\n",
    "car_met['HOUR'] = car_met['TIME'].dt.hour"
   ]
  },
  {
   "cell_type": "code",
   "execution_count": 272,
   "metadata": {
    "collapsed": false
   },
   "outputs": [
    {
     "name": "stdout",
     "output_type": "stream",
     "text": [
      "Station id  300016\n",
      "Station id  300099\n",
      "Station id  300233\n",
      "Station id  302257\n",
      "Station id  300083\n"
     ]
    }
   ],
   "source": [
    "for sensor_id in list(car_met['SENSOR_ID'].unique()):\n",
    "    missing=car_met[car_met.SENSOR_ID==sensor_id].isnull().values.any()\n",
    "    if missing==False:\n",
    "        print(\"Station id \",sensor_id)\n",
    "        "
   ]
  },
  {
   "cell_type": "markdown",
   "metadata": {},
   "source": [
    "The above are the only stations where no data is missing. let us retain only these sensor data."
   ]
  },
  {
   "cell_type": "code",
   "execution_count": 273,
   "metadata": {
    "collapsed": false
   },
   "outputs": [],
   "source": [
    "cycle_met_clean_data = cycle_met[(cycle_met.SENSOR_ID==10000210)| (cycle_met.SENSOR_ID==10000480) | (cycle_met.SENSOR_ID==10000790)]\n",
    "car_met_clean_data = car_met[(car_met.SENSOR_ID==300016)| (car_met.SENSOR_ID==300099) | (car_met.SENSOR_ID==300233) | (car_met.SENSOR_ID==302257\n",
    ")| (car_met.SENSOR_ID==300083)]"
   ]
  },
  {
   "cell_type": "markdown",
   "metadata": {},
   "source": [
    "Write them to csv files"
   ]
  },
  {
   "cell_type": "code",
   "execution_count": 274,
   "metadata": {
    "collapsed": false
   },
   "outputs": [],
   "source": [
    "cycle_met_clean_data.to_csv('cycle_met.csv',sep=';',index=False)\n",
    "car_met_clean_data.to_csv('car_met.csv',sep=';',index=False)\n",
    "cycle_met_clean_sensor_location = cycle_met_clean_data.merge(location_data,on=['SENSOR_ID'])\n",
    "car_met_clean_sensor_location = car_met_clean_data.merge(location_data,on=['SENSOR_ID'])"
   ]
  },
  {
   "cell_type": "code",
   "execution_count": 275,
   "metadata": {
    "collapsed": false
   },
   "outputs": [
    {
     "name": "stdout",
     "output_type": "stream",
     "text": [
      "Rows in cycling data combined with met  78840 101661 0 101661\n"
     ]
    }
   ],
   "source": [
    "print(\"Rows in cycling data combined with met \",len(cycle_met_clean_data),len(car_met_clean_data),len(cycle_met_clean_sensor_location),len(car_met_clean_sensor_location))\n",
    "#print(\"Rows in cycling data combined with met \",)\n"
   ]
  },
  {
   "cell_type": "code",
   "execution_count": 276,
   "metadata": {
    "collapsed": false
   },
   "outputs": [],
   "source": [
    "#car_met.head()"
   ]
  },
  {
   "cell_type": "code",
   "execution_count": 277,
   "metadata": {
    "collapsed": false
   },
   "outputs": [],
   "source": [
    "#cycle_met_clean_data.head()"
   ]
  },
  {
   "cell_type": "code",
   "execution_count": 278,
   "metadata": {
    "collapsed": false
   },
   "outputs": [],
   "source": [
    "car_met_clean_sensor_location=car_met_clean_sensor_location.drop([\"SENSOR_NAVN\",\"LATITUDE\",\"LONGITUDE\",\"STREKNING_NAVN\",\"FORMAT\",\"SENSOR_STATUS\",\"SENSOR_TYPE\",\"OPPLOSNING\"],axis=1)\n",
    "#car_met_clean_sensor_location.head()"
   ]
  },
  {
   "cell_type": "code",
   "execution_count": 279,
   "metadata": {
    "collapsed": false
   },
   "outputs": [],
   "source": [
    "#cycle_sensor_location = cycle_met_clean_data.merge(location_data,on=['SENSOR_ID'])\n",
    "#car_sensor_location = car_met_clean_data.merge(location_data,on=['SENSOR_ID'])\n",
    "#car_met_cycle = cycle_met.merge(car_met,on=['TIME'],how='right')\n",
    "\n",
    "\n",
    "#cycle_sensor_location=cycle_sensor_location.drop([\"SENSOR_NAVN\",\"LATITUDE\",\"LONGITUDE\",\"STREKNING_NAVN\",\"FORMAT\",\"SENSOR_STATUS\",\"SENSOR_TYPE\",\"OPPLOSNING\"],axis=1)\n",
    "#cycle_sensor_location.head()\n"
   ]
  },
  {
   "cell_type": "code",
   "execution_count": 280,
   "metadata": {
    "collapsed": false
   },
   "outputs": [],
   "source": [
    "#print(\"Rows in cycling data combined with car on time \",len(car_met_cycle))\n",
    "#car_met_cycle.head()\n",
    "#car_sensor_location=car_sensor_location.drop([\"SENSOR_NAVN\",\"LATITUDE\",\"LONGITUDE\",\"STREKNING_NAVN\",\"FORMAT\",\"SENSOR_STATUS\",\"SENSOR_TYPE\",\"OPPLOSNING\"],axis=1)\n",
    "#car_sensor_location.head()"
   ]
  },
  {
   "cell_type": "code",
   "execution_count": 281,
   "metadata": {
    "collapsed": false
   },
   "outputs": [],
   "source": [
    "#print(car_sensor_location.shape)\n",
    "#print(cycle_sensor_location.shape)\n",
    "#print(cycle_sensor_location.isnull().sum())\n",
    "#print(car_sensor_location.isnull().sum())\n",
    "#print('location',location_data.isnull().sum())\n",
    "#location_data.index[location_data['SENSOR_ID'] == 10000210].tolist()\n",
    "#print('length',len(cycle_met_clean_data.index[cycle_met_clean_data['SENSOR_ID'] == 10000210].tolist()))\n",
    "#print(location_data.loc[location_data.index[location_data['SENSOR_ID'] == 10000210]])"
   ]
  },
  {
   "cell_type": "code",
   "execution_count": 282,
   "metadata": {
    "collapsed": false,
    "scrolled": true
   },
   "outputs": [
    {
     "name": "stdout",
     "output_type": "stream",
     "text": [
      "(101661, 13)\n"
     ]
    },
    {
     "data": {
      "text/html": [
       "<div>\n",
       "<table border=\"1\" class=\"dataframe\">\n",
       "  <thead>\n",
       "    <tr style=\"text-align: right;\">\n",
       "      <th></th>\n",
       "      <th>SENSOR_ID</th>\n",
       "      <th>DIRECTION</th>\n",
       "      <th>SUM</th>\n",
       "      <th>TIME</th>\n",
       "      <th>STATION_ID</th>\n",
       "      <th>WIND_MAG</th>\n",
       "      <th>TEMP</th>\n",
       "      <th>PPT</th>\n",
       "      <th>RH</th>\n",
       "      <th>WEEKDAY</th>\n",
       "      <th>MONTH</th>\n",
       "      <th>HOUR</th>\n",
       "      <th>DTC</th>\n",
       "    </tr>\n",
       "  </thead>\n",
       "  <tbody>\n",
       "    <tr>\n",
       "      <th>0</th>\n",
       "      <td>300016</td>\n",
       "      <td>1</td>\n",
       "      <td>284</td>\n",
       "      <td>2015-02-01 01:00:00</td>\n",
       "      <td>18700</td>\n",
       "      <td>5.8</td>\n",
       "      <td>-1.0</td>\n",
       "      <td>0.0</td>\n",
       "      <td>75</td>\n",
       "      <td>Sunday</td>\n",
       "      <td>Feb</td>\n",
       "      <td>1</td>\n",
       "      <td>333.665928</td>\n",
       "    </tr>\n",
       "    <tr>\n",
       "      <th>1</th>\n",
       "      <td>300016</td>\n",
       "      <td>2</td>\n",
       "      <td>317</td>\n",
       "      <td>2015-02-01 01:00:00</td>\n",
       "      <td>18700</td>\n",
       "      <td>5.8</td>\n",
       "      <td>-1.0</td>\n",
       "      <td>0.0</td>\n",
       "      <td>75</td>\n",
       "      <td>Sunday</td>\n",
       "      <td>Feb</td>\n",
       "      <td>1</td>\n",
       "      <td>333.665928</td>\n",
       "    </tr>\n",
       "    <tr>\n",
       "      <th>2</th>\n",
       "      <td>300016</td>\n",
       "      <td>1</td>\n",
       "      <td>165</td>\n",
       "      <td>2015-02-01 02:00:00</td>\n",
       "      <td>18700</td>\n",
       "      <td>6.2</td>\n",
       "      <td>-1.3</td>\n",
       "      <td>0.0</td>\n",
       "      <td>77</td>\n",
       "      <td>Sunday</td>\n",
       "      <td>Feb</td>\n",
       "      <td>2</td>\n",
       "      <td>333.665928</td>\n",
       "    </tr>\n",
       "    <tr>\n",
       "      <th>3</th>\n",
       "      <td>300016</td>\n",
       "      <td>2</td>\n",
       "      <td>216</td>\n",
       "      <td>2015-02-01 02:00:00</td>\n",
       "      <td>18700</td>\n",
       "      <td>6.2</td>\n",
       "      <td>-1.3</td>\n",
       "      <td>0.0</td>\n",
       "      <td>77</td>\n",
       "      <td>Sunday</td>\n",
       "      <td>Feb</td>\n",
       "      <td>2</td>\n",
       "      <td>333.665928</td>\n",
       "    </tr>\n",
       "    <tr>\n",
       "      <th>4</th>\n",
       "      <td>300016</td>\n",
       "      <td>1</td>\n",
       "      <td>98</td>\n",
       "      <td>2015-02-01 03:00:00</td>\n",
       "      <td>18700</td>\n",
       "      <td>6.5</td>\n",
       "      <td>-1.5</td>\n",
       "      <td>0.1</td>\n",
       "      <td>79</td>\n",
       "      <td>Sunday</td>\n",
       "      <td>Feb</td>\n",
       "      <td>3</td>\n",
       "      <td>333.665928</td>\n",
       "    </tr>\n",
       "  </tbody>\n",
       "</table>\n",
       "</div>"
      ],
      "text/plain": [
       "   SENSOR_ID  DIRECTION  SUM                TIME  STATION_ID  WIND_MAG  TEMP  \\\n",
       "0     300016          1  284 2015-02-01 01:00:00       18700       5.8  -1.0   \n",
       "1     300016          2  317 2015-02-01 01:00:00       18700       5.8  -1.0   \n",
       "2     300016          1  165 2015-02-01 02:00:00       18700       6.2  -1.3   \n",
       "3     300016          2  216 2015-02-01 02:00:00       18700       6.2  -1.3   \n",
       "4     300016          1   98 2015-02-01 03:00:00       18700       6.5  -1.5   \n",
       "\n",
       "   PPT  RH WEEKDAY MONTH  HOUR         DTC  \n",
       "0  0.0  75  Sunday   Feb     1  333.665928  \n",
       "1  0.0  75  Sunday   Feb     1  333.665928  \n",
       "2  0.0  77  Sunday   Feb     2  333.665928  \n",
       "3  0.0  77  Sunday   Feb     2  333.665928  \n",
       "4  0.1  79  Sunday   Feb     3  333.665928  "
      ]
     },
     "execution_count": 282,
     "metadata": {},
     "output_type": "execute_result"
    }
   ],
   "source": [
    "print(car_met_clean_sensor_location.shape)\n",
    "car_met_clean_sensor_location.head()\n",
    "\n",
    "\n"
   ]
  },
  {
   "cell_type": "code",
   "execution_count": 283,
   "metadata": {
    "collapsed": false
   },
   "outputs": [
    {
     "name": "stdout",
     "output_type": "stream",
     "text": [
      "(78840, 13)\n"
     ]
    },
    {
     "data": {
      "text/html": [
       "<div>\n",
       "<table border=\"1\" class=\"dataframe\">\n",
       "  <thead>\n",
       "    <tr style=\"text-align: right;\">\n",
       "      <th></th>\n",
       "      <th>SENSOR_ID</th>\n",
       "      <th>TIME</th>\n",
       "      <th>LANE</th>\n",
       "      <th>SUM</th>\n",
       "      <th>DTC</th>\n",
       "      <th>STATION_ID</th>\n",
       "      <th>WIND_MAG</th>\n",
       "      <th>TEMP</th>\n",
       "      <th>PPT</th>\n",
       "      <th>RH</th>\n",
       "      <th>WEEKDAY</th>\n",
       "      <th>MONTH</th>\n",
       "      <th>HOUR</th>\n",
       "    </tr>\n",
       "  </thead>\n",
       "  <tbody>\n",
       "    <tr>\n",
       "      <th>1</th>\n",
       "      <td>10000210</td>\n",
       "      <td>2015-02-01 01:00:00</td>\n",
       "      <td>0.0</td>\n",
       "      <td>0.0</td>\n",
       "      <td>46.336212</td>\n",
       "      <td>18700</td>\n",
       "      <td>5.8</td>\n",
       "      <td>-1.0</td>\n",
       "      <td>0.0</td>\n",
       "      <td>75</td>\n",
       "      <td>Sunday</td>\n",
       "      <td>Feb</td>\n",
       "      <td>1</td>\n",
       "    </tr>\n",
       "    <tr>\n",
       "      <th>2</th>\n",
       "      <td>10000210</td>\n",
       "      <td>2015-02-01 01:00:00</td>\n",
       "      <td>1.0</td>\n",
       "      <td>0.0</td>\n",
       "      <td>46.336212</td>\n",
       "      <td>18700</td>\n",
       "      <td>5.8</td>\n",
       "      <td>-1.0</td>\n",
       "      <td>0.0</td>\n",
       "      <td>75</td>\n",
       "      <td>Sunday</td>\n",
       "      <td>Feb</td>\n",
       "      <td>1</td>\n",
       "    </tr>\n",
       "    <tr>\n",
       "      <th>3</th>\n",
       "      <td>10000210</td>\n",
       "      <td>2015-02-01 01:00:00</td>\n",
       "      <td>2.0</td>\n",
       "      <td>0.0</td>\n",
       "      <td>46.336212</td>\n",
       "      <td>18700</td>\n",
       "      <td>5.8</td>\n",
       "      <td>-1.0</td>\n",
       "      <td>0.0</td>\n",
       "      <td>75</td>\n",
       "      <td>Sunday</td>\n",
       "      <td>Feb</td>\n",
       "      <td>1</td>\n",
       "    </tr>\n",
       "    <tr>\n",
       "      <th>4</th>\n",
       "      <td>10000480</td>\n",
       "      <td>2015-02-01 01:00:00</td>\n",
       "      <td>0.0</td>\n",
       "      <td>1.0</td>\n",
       "      <td>41.585130</td>\n",
       "      <td>18700</td>\n",
       "      <td>5.8</td>\n",
       "      <td>-1.0</td>\n",
       "      <td>0.0</td>\n",
       "      <td>75</td>\n",
       "      <td>Sunday</td>\n",
       "      <td>Feb</td>\n",
       "      <td>1</td>\n",
       "    </tr>\n",
       "    <tr>\n",
       "      <th>5</th>\n",
       "      <td>10000480</td>\n",
       "      <td>2015-02-01 01:00:00</td>\n",
       "      <td>1.0</td>\n",
       "      <td>0.0</td>\n",
       "      <td>41.585130</td>\n",
       "      <td>18700</td>\n",
       "      <td>5.8</td>\n",
       "      <td>-1.0</td>\n",
       "      <td>0.0</td>\n",
       "      <td>75</td>\n",
       "      <td>Sunday</td>\n",
       "      <td>Feb</td>\n",
       "      <td>1</td>\n",
       "    </tr>\n",
       "  </tbody>\n",
       "</table>\n",
       "</div>"
      ],
      "text/plain": [
       "   SENSOR_ID                TIME  LANE  SUM        DTC  STATION_ID  WIND_MAG  \\\n",
       "1   10000210 2015-02-01 01:00:00   0.0  0.0  46.336212       18700       5.8   \n",
       "2   10000210 2015-02-01 01:00:00   1.0  0.0  46.336212       18700       5.8   \n",
       "3   10000210 2015-02-01 01:00:00   2.0  0.0  46.336212       18700       5.8   \n",
       "4   10000480 2015-02-01 01:00:00   0.0  1.0  41.585130       18700       5.8   \n",
       "5   10000480 2015-02-01 01:00:00   1.0  0.0  41.585130       18700       5.8   \n",
       "\n",
       "   TEMP  PPT  RH WEEKDAY MONTH  HOUR  \n",
       "1  -1.0  0.0  75  Sunday   Feb     1  \n",
       "2  -1.0  0.0  75  Sunday   Feb     1  \n",
       "3  -1.0  0.0  75  Sunday   Feb     1  \n",
       "4  -1.0  0.0  75  Sunday   Feb     1  \n",
       "5  -1.0  0.0  75  Sunday   Feb     1  "
      ]
     },
     "execution_count": 283,
     "metadata": {},
     "output_type": "execute_result"
    }
   ],
   "source": [
    "print(cycle_met_clean_data.shape)\n",
    "cycle_met_clean_data.head()"
   ]
  }
 ],
 "metadata": {
  "kernelspec": {
   "display_name": "Python 3",
   "language": "python",
   "name": "python3"
  },
  "language_info": {
   "codemirror_mode": {
    "name": "ipython",
    "version": 3
   },
   "file_extension": ".py",
   "mimetype": "text/x-python",
   "name": "python",
   "nbconvert_exporter": "python",
   "pygments_lexer": "ipython3",
   "version": "3.6.0"
  }
 },
 "nbformat": 4,
 "nbformat_minor": 2
}
